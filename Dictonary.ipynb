{
  "nbformat": 4,
  "nbformat_minor": 0,
  "metadata": {
    "colab": {
      "provenance": [],
      "toc_visible": true,
      "authorship_tag": "ABX9TyNX+NzsuHlP8fmtqKNF6Aym",
      "include_colab_link": true
    },
    "kernelspec": {
      "name": "python3",
      "display_name": "Python 3"
    },
    "language_info": {
      "name": "python"
    }
  },
  "cells": [
    {
      "cell_type": "markdown",
      "metadata": {
        "id": "view-in-github",
        "colab_type": "text"
      },
      "source": [
        "<a href=\"https://colab.research.google.com/github/minchuhub/python-project-folder/blob/master/Dictonary.ipynb\" target=\"_parent\"><img src=\"https://colab.research.google.com/assets/colab-badge.svg\" alt=\"Open In Colab\"/></a>"
      ]
    },
    {
      "cell_type": "code",
      "execution_count": 9,
      "metadata": {
        "colab": {
          "base_uri": "https://localhost:8080/"
        },
        "id": "TPgz2161S0_S",
        "outputId": "ee1d4e2b-39a6-4893-98be-4ad66bd22b21"
      },
      "outputs": [
        {
          "output_type": "stream",
          "name": "stdout",
          "text": [
            "how is your mood  happy\n",
            "thats a good thing to hear\n"
          ]
        }
      ],
      "source": [
        "mood_chatbot={'happy':'thats a good thing to hear',\n",
        "  'angry':'be patient and meditate',\n",
        "  'sad':'iam sorry to hear that',\n",
        "    'sick':'take some medication'}\n",
        "\n",
        "user_answer = input(\"how is your mood\")\n",
        "  #look for key in the sentence\n",
        "for key in mood_chatbot:\n",
        "    if key in user_answer:\n",
        "      print(mood_chatbot[key])\n",
        "      break\n",
        ""
      ]
    }
  ]
}